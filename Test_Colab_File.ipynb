{
  "nbformat": 4,
  "nbformat_minor": 0,
  "metadata": {
    "colab": {
      "provenance": [],
      "authorship_tag": "ABX9TyNmfpTUdW8uGBaOl+36BJM/",
      "include_colab_link": true
    },
    "kernelspec": {
      "name": "python3",
      "display_name": "Python 3"
    },
    "language_info": {
      "name": "python"
    }
  },
  "cells": [
    {
      "cell_type": "markdown",
      "metadata": {
        "id": "view-in-github",
        "colab_type": "text"
      },
      "source": [
        "<a href=\"https://colab.research.google.com/github/mohitmeht/LigandMPNN/blob/main/Test_Colab_File.ipynb\" target=\"_parent\"><img src=\"https://colab.research.google.com/assets/colab-badge.svg\" alt=\"Open In Colab\"/></a>"
      ]
    },
    {
      "cell_type": "code",
      "execution_count": 1,
      "metadata": {
        "colab": {
          "base_uri": "https://localhost:8080/",
          "height": 711
        },
        "id": "82nNB3tWgjxN",
        "outputId": "31b74e5c-5cd7-4db5-a16a-ad0c452eefef"
      },
      "outputs": [
        {
          "output_type": "stream",
          "name": "stdout",
          "text": [
            "Cloning into 'LigandMPNN'...\n",
            "remote: Enumerating objects: 230, done.\u001b[K\n",
            "remote: Counting objects: 100% (230/230), done.\u001b[K\n",
            "remote: Compressing objects: 100% (94/94), done.\u001b[K\n",
            "remote: Total 230 (delta 88), reused 214 (delta 79), pack-reused 0\u001b[K\n",
            "Receiving objects: 100% (230/230), 2.10 MiB | 11.99 MiB/s, done.\n",
            "Resolving deltas: 100% (88/88), done.\n",
            "Collecting prody\n",
            "  Downloading ProDy-2.4.1.tar.gz (21.7 MB)\n",
            "\u001b[2K     \u001b[90m━━━━━━━━━━━━━━━━━━━━━━━━━━━━━━━━━━━━━━━━\u001b[0m \u001b[32m21.7/21.7 MB\u001b[0m \u001b[31m36.7 MB/s\u001b[0m eta \u001b[36m0:00:00\u001b[0m\n",
            "\u001b[?25h  Installing build dependencies ... \u001b[?25l\u001b[?25hdone\n",
            "  Getting requirements to build wheel ... \u001b[?25l\u001b[?25hdone\n",
            "  Preparing metadata (pyproject.toml) ... \u001b[?25l\u001b[?25hdone\n",
            "Collecting numpy<1.24,>=1.10 (from prody)\n",
            "  Using cached numpy-1.23.5-cp310-cp310-manylinux_2_17_x86_64.manylinux2014_x86_64.whl (17.1 MB)\n",
            "Collecting biopython<=1.79 (from prody)\n",
            "  Downloading biopython-1.79-cp310-cp310-manylinux_2_17_x86_64.manylinux2014_x86_64.whl (2.7 MB)\n",
            "\u001b[2K     \u001b[90m━━━━━━━━━━━━━━━━━━━━━━━━━━━━━━━━━━━━━━━━\u001b[0m \u001b[32m2.7/2.7 MB\u001b[0m \u001b[31m84.9 MB/s\u001b[0m eta \u001b[36m0:00:00\u001b[0m\n",
            "\u001b[?25hRequirement already satisfied: pyparsing in /usr/local/lib/python3.10/dist-packages (from prody) (3.1.1)\n",
            "Requirement already satisfied: scipy in /usr/local/lib/python3.10/dist-packages (from prody) (1.11.4)\n",
            "Requirement already satisfied: setuptools in /usr/local/lib/python3.10/dist-packages (from prody) (67.7.2)\n",
            "Building wheels for collected packages: prody\n",
            "  Building wheel for prody (pyproject.toml) ... \u001b[?25l\u001b[?25hdone\n",
            "  Created wheel for prody: filename=ProDy-2.4.1-cp310-cp310-linux_x86_64.whl size=22368528 sha256=fb9784b76c1fed55270b64bf6e11998edbbafe6ff47a5e3cd9e81a8d8aab1431\n",
            "  Stored in directory: /root/.cache/pip/wheels/00/ec/aa/f2842cee2805f22126b5ed9a11d46984f0c116262ccb54b83e\n",
            "Successfully built prody\n",
            "Installing collected packages: numpy, biopython, prody\n",
            "  Attempting uninstall: numpy\n",
            "    Found existing installation: numpy 1.25.2\n",
            "    Uninstalling numpy-1.25.2:\n",
            "      Successfully uninstalled numpy-1.25.2\n",
            "\u001b[31mERROR: pip's dependency resolver does not currently take into account all the packages that are installed. This behaviour is the source of the following dependency conflicts.\n",
            "chex 0.1.85 requires numpy>=1.24.1, but you have numpy 1.23.5 which is incompatible.\u001b[0m\u001b[31m\n",
            "\u001b[0mSuccessfully installed biopython-1.79 numpy-1.23.5 prody-2.4.1\n"
          ]
        },
        {
          "output_type": "display_data",
          "data": {
            "application/vnd.colab-display-data+json": {
              "pip_warning": {
                "packages": [
                  "numpy"
                ]
              }
            }
          },
          "metadata": {}
        }
      ],
      "source": [
        "!git clone https://github.com/mohitmeht/LigandMPNN.git\n",
        "!pip install prody"
      ]
    },
    {
      "cell_type": "code",
      "source": [
        "cd LigandMPNN"
      ],
      "metadata": {
        "colab": {
          "base_uri": "https://localhost:8080/"
        },
        "id": "R_VYTSQvhcVz",
        "outputId": "934ba6d8-c4c1-4c66-d722-f88911e5ef42"
      },
      "execution_count": 5,
      "outputs": [
        {
          "output_type": "stream",
          "name": "stdout",
          "text": [
            "[Errno 2] No such file or directory: 'LigandMPNN'\n",
            "/content/LigandMPNN\n"
          ]
        }
      ]
    },
    {
      "cell_type": "code",
      "source": [
        "!sh get_model_params.sh \"./model_params\""
      ],
      "metadata": {
        "id": "Gt-nGlmlieN7"
      },
      "execution_count": 3,
      "outputs": []
    },
    {
      "cell_type": "code",
      "source": [
        "!sh run_examples.sh"
      ],
      "metadata": {
        "colab": {
          "base_uri": "https://localhost:8080/"
        },
        "id": "QcsYqNT0hfvy",
        "outputId": "fc820210-af0f-471d-9adf-b8978b60ce7d"
      },
      "execution_count": 6,
      "outputs": [
        {
          "output_type": "stream",
          "name": "stdout",
          "text": [
            "@> ProDy is configured: verbosity='none'\n",
            "Designing protein from this path: ./inputs/1BC8.pdb\n",
            "These residues will be redesigned:  ['C1', 'C2', 'C3', 'C4', 'C5', 'C6', 'C7', 'C8', 'C9', 'C10', 'C11', 'C12', 'C13', 'C14', 'C15', 'C16', 'C17', 'C18', 'C19', 'C20', 'C21', 'C22', 'C23', 'C24', 'C25', 'C26', 'C27', 'C28', 'C29', 'C30', 'C31', 'C32', 'C33', 'C34', 'C35', 'C36', 'C37', 'C38', 'C39', 'C40', 'C41', 'C42', 'C43', 'C44', 'C45', 'C46', 'C47', 'C48', 'C49', 'C50', 'C51', 'C52', 'C53', 'C54', 'C55', 'C56', 'C57', 'C58', 'C59', 'C60', 'C61', 'C62', 'C63', 'C64', 'C65', 'C66', 'C67', 'C68', 'C69', 'C70', 'C71', 'C72', 'C73', 'C74', 'C75', 'C76', 'C77', 'C78', 'C79', 'C80', 'C81', 'C82', 'C83', 'C84', 'C85', 'C86', 'C87', 'C88', 'C89', 'C90', 'C91', 'C92', 'C93']\n",
            "These residues will be fixed:  []\n",
            "^C\n"
          ]
        }
      ]
    },
    {
      "cell_type": "code",
      "source": [],
      "metadata": {
        "colab": {
          "base_uri": "https://localhost:8080/"
        },
        "id": "qtMcBAQjlFbs",
        "outputId": "9a616e97-05f1-4809-b73b-ae30dfa1344e"
      },
      "execution_count": 10,
      "outputs": [
        {
          "output_type": "stream",
          "name": "stdout",
          "text": [
            "Designing protein from this path: ./inputs/1BC8.pdb\n",
            "These residues will be redesigned:  ['C1', 'C2', 'C3', 'C4', 'C5', 'C6', 'C7', 'C8', 'C9', 'C10', 'C11', 'C12', 'C13', 'C14', 'C15', 'C16', 'C17', 'C18', 'C19', 'C20', 'C21', 'C22', 'C23', 'C24', 'C25', 'C26', 'C27', 'C28', 'C29', 'C30', 'C31', 'C32', 'C33', 'C34', 'C35', 'C36', 'C37', 'C38', 'C39', 'C40', 'C41', 'C42', 'C43', 'C44', 'C45', 'C46', 'C47', 'C48', 'C49', 'C50', 'C51', 'C52', 'C53', 'C54', 'C55', 'C56', 'C57', 'C58', 'C59', 'C60', 'C61', 'C62', 'C63', 'C64', 'C65', 'C66', 'C67', 'C68', 'C69', 'C70', 'C71', 'C72', 'C73', 'C74', 'C75', 'C76', 'C77', 'C78', 'C79', 'C80', 'C81', 'C82', 'C83', 'C84', 'C85', 'C86', 'C87', 'C88', 'C89', 'C90', 'C91', 'C92', 'C93']\n",
            "These residues will be fixed:  []\n"
          ]
        }
      ]
    },
    {
      "cell_type": "code",
      "source": [
        "!python run.py \\\n",
        "      --pdb_path \"./inputs/7FEK_PFOA.pdb\" \\\n",
        "      --out_folder \"./outputs/redesign_residues\" \\\n",
        "      --redesigned_residues \"A127 A26 A77 A20 A34 A105 A129 A17 A116 A21 A76 A54 A79 A39 A107 A118\" --parse_atoms_with_zero_occupancy=1 --number_of_batches 100\n"
      ],
      "metadata": {
        "colab": {
          "base_uri": "https://localhost:8080/"
        },
        "id": "Nxg4oI-Ukwk2",
        "outputId": "0aa22306-1f45-4a07-b699-db5cd14feac5"
      },
      "execution_count": null,
      "outputs": [
        {
          "output_type": "stream",
          "name": "stdout",
          "text": [
            "Designing protein from this path: ./inputs/7FEK_PFOA.pdb\n",
            "These residues will be redesigned:  ['A17', 'A20', 'A21', 'A26', 'A34', 'A39', 'A54', 'A76', 'A77', 'A79', 'A105', 'A107', 'A116', 'A118', 'A127', 'A129']\n",
            "These residues will be fixed:  ['A1', 'A2', 'A3', 'A4', 'A5', 'A6', 'A7', 'A8', 'A9', 'A10', 'A11', 'A12', 'A13', 'A14', 'A15', 'A16', 'A18', 'A19', 'A22', 'A23', 'A24', 'A25', 'A27', 'A28', 'A29', 'A30', 'A31', 'A32', 'A33', 'A35', 'A36', 'A37', 'A38', 'A40', 'A41', 'A42', 'A43', 'A44', 'A45', 'A46', 'A47', 'A48', 'A49', 'A50', 'A51', 'A52', 'A53', 'A55', 'A56', 'A57', 'A58', 'A59', 'A60', 'A61', 'A62', 'A63', 'A64', 'A65', 'A66', 'A67', 'A68', 'A69', 'A70', 'A71', 'A72', 'A73', 'A74', 'A75', 'A78', 'A80', 'A81', 'A82', 'A83', 'A84', 'A85', 'A86', 'A87', 'A88', 'A89', 'A90', 'A91', 'A92', 'A93', 'A94', 'A95', 'A96', 'A97', 'A98', 'A99', 'A100', 'A101', 'A102', 'A103', 'A104', 'A106', 'A108', 'A109', 'A110', 'A111', 'A112', 'A113', 'A114', 'A115', 'A117', 'A119', 'A120', 'A121', 'A122', 'A123', 'A124', 'A125', 'A126', 'A128', 'A130', 'A131', 'A132', 'A133']\n"
          ]
        }
      ]
    }
  ]
}